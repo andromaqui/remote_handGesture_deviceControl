{
 "cells": [
  {
   "cell_type": "code",
   "execution_count": 11,
   "metadata": {},
   "outputs": [],
   "source": [
    "import cv2\n",
    "import os"
   ]
  },
  {
   "cell_type": "code",
   "execution_count": 12,
   "metadata": {},
   "outputs": [],
   "source": [
    "img = cv2.imread(\"generatedImages2/A0.jpg\") \n",
    "img = cv2.resize(img, (128, 128)) \n",
    "\n",
    "img4 = cv2.imread(\"generatedImages2/B0.jpg\") \n",
    "img4 = cv2.resize(img, (128, 128))"
   ]
  },
  {
   "cell_type": "code",
   "execution_count": 13,
   "metadata": {},
   "outputs": [],
   "source": [
    "img1 = cv2.imread(\"generatedImages5/A0.jpg\") \n",
    "img1 = cv2.resize(img, (128, 128)) \n",
    "\n",
    "img5 = cv2.imread(\"generatedImages5/B0.jpg\") \n",
    "img5 = cv2.resize(img, (128, 128))"
   ]
  },
  {
   "cell_type": "code",
   "execution_count": 14,
   "metadata": {},
   "outputs": [],
   "source": [
    "img2 = cv2.imread(\"generatedImages8/A0.jpg\") \n",
    "img2 = cv2.resize(img, (128, 128))\n",
    "\n",
    "img6 = cv2.imread(\"generatedImages8/B0.jpg\") \n",
    "img6 = cv2.resize(img, (128, 128))"
   ]
  },
  {
   "cell_type": "code",
   "execution_count": 15,
   "metadata": {},
   "outputs": [],
   "source": [
    "img3 = cv2.imread(\"generatedImages11/A0.jpg\") \n",
    "img3 = cv2.resize(img, (128, 128))\n",
    "\n",
    "img7 = cv2.imread(\"generatedImages11/B0.jpg\") \n",
    "img7 = cv2.resize(img, (128, 128))"
   ]
  },
  {
   "cell_type": "code",
   "execution_count": 16,
   "metadata": {},
   "outputs": [],
   "source": [
    "img8 = cv2.imread(\"generatedImages14/C0.jpg\") \n",
    "img8 = cv2.resize(img, (128, 128))"
   ]
  },
  {
   "cell_type": "code",
   "execution_count": 17,
   "metadata": {},
   "outputs": [],
   "source": [
    "def gallery(array, ncols=3):\n",
    "    nindex, height, width, intensity = array.shape\n",
    "    nrows = nindex//ncols\n",
    "    assert nindex == nrows*ncols\n",
    "    # want result.shape = (height*nrows, width*ncols, intensity)\n",
    "    result = (array.reshape(nrows, ncols, height, width, intensity)\n",
    "              .swapaxes(1,2)\n",
    "              .reshape(height*nrows, width*ncols, intensity))\n",
    "    return result\n"
   ]
  },
  {
   "cell_type": "code",
   "execution_count": 29,
   "metadata": {},
   "outputs": [],
   "source": [
    "from PIL import Image, ImageOps  \n",
    "    \n",
    "# creating a image1 object  \n",
    "im1 = Image.open(\"generatedImages9/B2.jpg\") \n",
    "     \n",
    "# applying autocontrast method  \n",
    "im2 = ImageOps.autocontrast(im1, cutoff = 1, ignore = 1) \n",
    "\n",
    "im1.show()\n",
    "im2.show()"
   ]
  },
  {
   "cell_type": "code",
   "execution_count": null,
   "metadata": {},
   "outputs": [],
   "source": []
  }
 ],
 "metadata": {
  "kernelspec": {
   "display_name": "Python 3",
   "language": "python",
   "name": "python3"
  },
  "language_info": {
   "codemirror_mode": {
    "name": "ipython",
    "version": 3
   },
   "file_extension": ".py",
   "mimetype": "text/x-python",
   "name": "python",
   "nbconvert_exporter": "python",
   "pygments_lexer": "ipython3",
   "version": "3.8.3"
  }
 },
 "nbformat": 4,
 "nbformat_minor": 4
}
