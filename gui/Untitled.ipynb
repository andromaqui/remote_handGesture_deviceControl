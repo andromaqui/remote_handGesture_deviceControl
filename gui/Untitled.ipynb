{
 "cells": [
  {
   "cell_type": "code",
   "execution_count": 1,
   "metadata": {},
   "outputs": [],
   "source": [
    "##imports\n",
    "from sklearn.metrics import confusion_matrix\n",
    "from sklearn.metrics import accuracy_score\n",
    "from keras.models import load_model\n",
    "from PIL import Image, ImageOps\n",
    "import pandas as pd\n",
    "import numpy as np\n",
    "import cv2\n",
    "import os"
   ]
  },
  {
   "cell_type": "code",
   "execution_count": 2,
   "metadata": {},
   "outputs": [],
   "source": [
    "##############################\n",
    "# here we collect all the paths\n",
    "# to our train / test images\n",
    "pathToImages = []\n",
    "for root, dirs, files in os.walk(\"./A/\", topdown=False): \n",
    "    for name in files:\n",
    "        path = os.path.join(root, name)\n",
    "        if path.endswith(\"jpg\"):\n",
    "            pathToImages.append(path) \n"
   ]
  },
  {
   "cell_type": "code",
   "execution_count": 3,
   "metadata": {},
   "outputs": [],
   "source": [
    "X = [] # Image data\n",
    "y = [] # Labels\n",
    "lettersDict = {'A' :0, 'B':1, 'U':2, 'V':3} \n",
    "\n",
    "# Loops through imagepaths to load images and labels into arrays\n",
    "for path in pathToImages:\n",
    "    # Reads image and returns np.array\n",
    "    img = cv2.imread(path) \n",
    "    img = cv2.resize(img, (128, 128)) \n",
    "\n",
    "    try:\n",
    "        label = path.split(\"/\")[2].split(\".\")[0][0]\n",
    "        if(label == \"E\"):\n",
    "            continue\n",
    "        else:\n",
    "            X.append(img)\n",
    "    except Exception as e:\n",
    "        print(e)\n",
    "        print(path)\n",
    "    letterToNumber = lettersDict.get(label)\n",
    "    y.append(letterToNumber)\n",
    "    \n",
    "X = np.array(X, dtype=\"uint8\")\n",
    "y = np.array(y)"
   ]
  },
  {
   "cell_type": "code",
   "execution_count": 4,
   "metadata": {},
   "outputs": [
    {
     "name": "stdout",
     "output_type": "stream",
     "text": [
      "[0 0 0 0 0 0 0 0 0 0 0 0 0 0 0 0 0 0 0 0 0 0 0 0 0 0 0 0 0 0 0 0 0 0 0 0 0\n",
      " 0 0 0 0 0 0 0 0 0 0 0 0 0 0 0 0 0 0 0 0 0 0 0 0 0 0 0 0 0 0 0 0 0 0 0 0 0\n",
      " 0 0 0 0 0 0 0 0 0 0 0 0 0 0 0 0 0 0 0 0 0 0 0 0 0 0 0 0 0 0 0 0 0 0 0 0 0\n",
      " 0 0 0 0 0 0 0 0 0 0 0 0 0 0 0 0 0 0 0 0 0 0 0 0 0 0 0 0 0 0 0 0 0 0 0 0 0\n",
      " 0 0 0 0 0 0 0 0 0 0 0 0 0 0 0 0 0 0 0 0 0 0 0 0 0 0 0 0 0 0 0 0 0 0 0 0 0\n",
      " 0 0 0 0 0 0 0 0 0 0 0 0 0 0 0 0 0 0 0 0 0 0 0 0 0 0 0 0 0 0 0 0 0 0 0 0 0\n",
      " 0 0 0 0 0 0 0 0 0 0 0 0 0 0 0 0 0 0 0 0 0 0 0 0 0 0 0 0 0 0 0 0 0 0 0 0 0\n",
      " 0 0 0 0 0 0 0 0 0 0 0 0 0 0 0 0 0 0 0 0 0 0 0 0 0 0 0 0 0 0 0 0 0 0 0 0 0\n",
      " 0 0 0 0 0 0 0 0 0 0 0 0 0 0 0 0 0 0 0 0 0 0 0 0 0 0 0]\n"
     ]
    }
   ],
   "source": [
    "print(y)"
   ]
  },
  {
   "cell_type": "code",
   "execution_count": 8,
   "metadata": {},
   "outputs": [
    {
     "name": "stdout",
     "output_type": "stream",
     "text": [
      "0\n"
     ]
    },
    {
     "data": {
      "text/plain": [
       "'\\nprobabilityThreshold = 0.7\\ncond = (predictions.max(axis=1) < probabilityThreshold).astype(float)\\nnew_probability = np.hstack((predictions, cond[:,None]))\\nnewy_pred = np.argmax(new_probability, axis=1) # Transform predictions into 1-D array with label number\\n\\npd.DataFrame(confusion_matrix(y, newy_pred), \\n             columns=[\"Predicted 0\", \"Predicted 1\", \"Predicted 2\", \"Predicted 3\", \"Predicted 4\", \"No Class\"],\\n             index=[\"Actual 0\", \"Actual 1\", \"Actual 2\", \"Actual 3\", \"Actual 4\", \"Actual No Class\"])\\n             '"
      ]
     },
     "execution_count": 8,
     "metadata": {},
     "output_type": "execute_result"
    }
   ],
   "source": [
    "##model 5 RESNET50 with NO AUTOCONTRAST\n",
    "## compared to IMAGE WITH NO autocontrast\n",
    "## ADDED EMPTY CLASS \n",
    "## 5 CLASSES\n",
    "model = load_model('./model_res50_5classes_autocontrast.h5')\n",
    "predictions = model.predict(X[:20]) # Make predictions towards the test set\n",
    "newy_pred = np.argmax(predictions, axis=1)\n",
    "newy_pred = newy_pred.tolist()\n",
    "averageFrameClass = max(set(newy_pred), key=newy_pred.count)\n",
    "print(averageFrameClass)\n",
    "\n",
    "\"\"\"\n",
    "probabilityThreshold = 0.7\n",
    "cond = (predictions.max(axis=1) < probabilityThreshold).astype(float)\n",
    "new_probability = np.hstack((predictions, cond[:,None]))\n",
    "newy_pred = np.argmax(new_probability, axis=1) # Transform predictions into 1-D array with label number\n",
    "\n",
    "pd.DataFrame(confusion_matrix(y, newy_pred), \n",
    "             columns=[\"Predicted 0\", \"Predicted 1\", \"Predicted 2\", \"Predicted 3\", \"Predicted 4\", \"No Class\"],\n",
    "             index=[\"Actual 0\", \"Actual 1\", \"Actual 2\", \"Actual 3\", \"Actual 4\", \"Actual No Class\"])\n",
    "             \"\"\""
   ]
  },
  {
   "cell_type": "code",
   "execution_count": 9,
   "metadata": {},
   "outputs": [
    {
     "name": "stdout",
     "output_type": "stream",
     "text": [
      "0\n"
     ]
    },
    {
     "data": {
      "text/plain": [
       "'\\nprobabilityThreshold = 0.7\\ncond = (predictions.max(axis=1) < probabilityThreshold).astype(float)\\nnew_probability = np.hstack((predictions, cond[:,None]))\\nnewy_pred = np.argmax(new_probability, axis=1) # Transform predictions into 1-D array with label number\\n\\npd.DataFrame(confusion_matrix(y, newy_pred), \\n             columns=[\"Predicted 0\", \"Predicted 1\", \"Predicted 2\", \"Predicted 3\", \"Predicted 4\", \"No Class\"],\\n             index=[\"Actual 0\", \"Actual 1\", \"Actual 2\", \"Actual 3\", \"Actual 4\", \"Actual No Class\"])\\n             '"
      ]
     },
     "execution_count": 9,
     "metadata": {},
     "output_type": "execute_result"
    }
   ],
   "source": [
    "##model 5 RESNET50 with NO AUTOCONTRAST\n",
    "## compared to IMAGE WITH NO autocontrast\n",
    "## ADDED EMPTY CLASS \n",
    "## 5 CLASSES\n",
    "model = load_model('./model_res50_5classes.h5')\n",
    "predictions = model.predict(X[:20]) # Make predictions towards the test set\n",
    "newy_pred = np.argmax(predictions, axis=1)\n",
    "newy_pred = newy_pred.tolist()\n",
    "averageFrameClass = max(set(newy_pred), key=newy_pred.count)\n",
    "print(averageFrameClass)\n",
    "\n",
    "#print(predictions)\n",
    "\"\"\"\n",
    "probabilityThreshold = 0.7\n",
    "cond = (predictions.max(axis=1) < probabilityThreshold).astype(float)\n",
    "new_probability = np.hstack((predictions, cond[:,None]))\n",
    "newy_pred = np.argmax(new_probability, axis=1) # Transform predictions into 1-D array with label number\n",
    "\n",
    "pd.DataFrame(confusion_matrix(y, newy_pred), \n",
    "             columns=[\"Predicted 0\", \"Predicted 1\", \"Predicted 2\", \"Predicted 3\", \"Predicted 4\", \"No Class\"],\n",
    "             index=[\"Actual 0\", \"Actual 1\", \"Actual 2\", \"Actual 3\", \"Actual 4\", \"Actual No Class\"])\n",
    "             \"\"\""
   ]
  },
  {
   "cell_type": "code",
   "execution_count": null,
   "metadata": {},
   "outputs": [],
   "source": []
  }
 ],
 "metadata": {
  "kernelspec": {
   "display_name": "Python 3",
   "language": "python",
   "name": "python3"
  },
  "language_info": {
   "codemirror_mode": {
    "name": "ipython",
    "version": 3
   },
   "file_extension": ".py",
   "mimetype": "text/x-python",
   "name": "python",
   "nbconvert_exporter": "python",
   "pygments_lexer": "ipython3",
   "version": "3.8.3"
  }
 },
 "nbformat": 4,
 "nbformat_minor": 4
}
